{
 "cells": [
  {
   "cell_type": "code",
   "execution_count": 390,
   "source": [
    "import pandas as pd\r\n",
    "import numpy as np"
   ],
   "outputs": [],
   "metadata": {}
  },
  {
   "cell_type": "code",
   "execution_count": 391,
   "source": [
    "# Open data to train the model\r\n",
    "train_data = pd.read_csv('covid_early_stage_symptoms.csv')\r\n",
    "#train_data.head()"
   ],
   "outputs": [],
   "metadata": {}
  },
  {
   "cell_type": "code",
   "execution_count": 392,
   "source": [
    "# Open test data\r\n",
    "test_data = pd.read_csv(\"test_data.csv\")\r\n",
    "#test_data.head()\r\n"
   ],
   "outputs": [],
   "metadata": {}
  },
  {
   "cell_type": "code",
   "execution_count": 393,
   "source": [
    "travel = train_data.loc[train_data.travel_history == 1][\"SARS-CoV-2 Positive\"]\r\n",
    "\r\n",
    "rate_travel = sum(travel)/len(travel)\r\n",
    "print(\"% of people who travel that are positive: \", rate_travel)\r\n",
    "\r\n",
    "fever = train_data.loc[train_data.fever == 1][\"SARS-CoV-2 Positive\"]\r\n",
    "\r\n",
    "rate_fever = sum(fever)/len(fever)\r\n",
    "print(\"% of people who have fever that are positive: \", rate_fever)\r\n",
    "\r\n",
    "lung = train_data.loc[train_data.lung_infection ==\r\n",
    "                      1][\"SARS-CoV-2 Positive\"]\r\n",
    "\r\n",
    "rate_lung = sum(lung)/len(lung)\r\n",
    "print(\"% of people who have lung infection that are positive: \", rate_lung)\r\n",
    "\r\n",
    "pneumonia = train_data.loc[train_data.pneumonia ==\r\n",
    "                           1][\"SARS-CoV-2 Positive\"]\r\n",
    "\r\n",
    "rate_pneumonia = sum(pneumonia)/len(pneumonia)\r\n",
    "print(\"% of people who have pneumonia that are positive: \", rate_pneumonia)\r\n"
   ],
   "outputs": [
    {
     "output_type": "stream",
     "name": "stdout",
     "text": [
      "% of people who travel that are positive:  0.13706563706563707\n",
      "% of people who have fever that are positive:  0.4675547915771379\n",
      "% of people who have lung infection that are positive:  0.9108910891089109\n",
      "% of people who have pneumonia that are positive:  1.0\n"
     ]
    }
   ],
   "metadata": {}
  },
  {
   "cell_type": "code",
   "execution_count": 394,
   "source": [
    "pneumonia = train_data.loc[train_data.pneumonia ==\r\n",
    "                           1][\"SARS-CoV-2 Positive\"]\r\n",
    "\r\n",
    "rate_pneumonia = sum(pneumonia)/len(pneumonia)\r\n",
    "print(\"% of people who have pneumonia that are positive: \", rate_pneumonia)\r\n"
   ],
   "outputs": [
    {
     "output_type": "stream",
     "name": "stdout",
     "text": [
      "% of people who have pneumonia that are positive:  1.0\n"
     ]
    }
   ],
   "metadata": {}
  },
  {
   "cell_type": "markdown",
   "source": [
    "Lung infection and pneumonia are the two comorbities with the higher relation"
   ],
   "metadata": {}
  },
  {
   "cell_type": "code",
   "execution_count": 395,
   "source": [
    "# Change 'female'and 'male' to 1 and 0\r\n",
    "train_data.loc[train_data['gender'] == 'male', 'gender'] = 0\r\n",
    "train_data.loc[train_data['gender'] == 'female', 'gender'] = 1\r\n",
    "#train_data.head()"
   ],
   "outputs": [],
   "metadata": {}
  },
  {
   "cell_type": "code",
   "execution_count": 396,
   "source": [
    "# Change 'female'and 'male' to 1 and 0\r\n",
    "test_data.loc[test_data['gender'] == 'male', 'gender'] = 0\r\n",
    "test_data.loc[test_data['gender'] == 'female', 'gender'] = 1\r\n",
    "#test_data.head()\r\n"
   ],
   "outputs": [],
   "metadata": {}
  },
  {
   "cell_type": "code",
   "execution_count": 397,
   "source": [
    "from sklearn.ensemble import RandomForestClassifier\r\n",
    "# Create target object\r\n",
    "y = train_data['SARS-CoV-2 Positive']\r\n",
    "# Create X \r\n",
    "features = ['gender', 'age_year', 'fever', 'pneumonia', 'lung_infection', 'travel_history', 'cough', 'runny_nose', 'muscle_soreness']\r\n",
    "X = pd.get_dummies(train_data[features])\r\n",
    "X_test = pd.get_dummies(test_data[features])\r\n"
   ],
   "outputs": [],
   "metadata": {}
  },
  {
   "cell_type": "code",
   "execution_count": 405,
   "source": [
    "# n_estimators is the number of trees, the default is 100\r\n",
    "# max_depth refers to the maximun depth of the tree\r\n",
    "# random_state controls the randomness of the bootstrapping of the sampleswhen building the trees\r\n",
    "model = RandomForestClassifier(n_estimators=100, max_depth=5, random_state=1)\r\n",
    "model.fit(X, y)\r\n",
    "predictions = model.predict(X_test)\r\n"
   ],
   "outputs": [],
   "metadata": {}
  },
  {
   "cell_type": "code",
   "execution_count": 399,
   "source": [
    "X_test.head()"
   ],
   "outputs": [
    {
     "output_type": "execute_result",
     "data": {
      "text/html": [
       "<div>\n",
       "<style scoped>\n",
       "    .dataframe tbody tr th:only-of-type {\n",
       "        vertical-align: middle;\n",
       "    }\n",
       "\n",
       "    .dataframe tbody tr th {\n",
       "        vertical-align: top;\n",
       "    }\n",
       "\n",
       "    .dataframe thead th {\n",
       "        text-align: right;\n",
       "    }\n",
       "</style>\n",
       "<table border=\"1\" class=\"dataframe\">\n",
       "  <thead>\n",
       "    <tr style=\"text-align: right;\">\n",
       "      <th></th>\n",
       "      <th>age_year</th>\n",
       "      <th>fever</th>\n",
       "      <th>pneumonia</th>\n",
       "      <th>lung_infection</th>\n",
       "      <th>travel_history</th>\n",
       "      <th>cough</th>\n",
       "      <th>runny_nose</th>\n",
       "      <th>muscle_soreness</th>\n",
       "      <th>gender_0</th>\n",
       "      <th>gender_1</th>\n",
       "    </tr>\n",
       "  </thead>\n",
       "  <tbody>\n",
       "    <tr>\n",
       "      <th>0</th>\n",
       "      <td>52</td>\n",
       "      <td>1</td>\n",
       "      <td>0</td>\n",
       "      <td>1</td>\n",
       "      <td>0</td>\n",
       "      <td>1</td>\n",
       "      <td>0</td>\n",
       "      <td>0</td>\n",
       "      <td>0</td>\n",
       "      <td>1</td>\n",
       "    </tr>\n",
       "    <tr>\n",
       "      <th>1</th>\n",
       "      <td>48</td>\n",
       "      <td>1</td>\n",
       "      <td>0</td>\n",
       "      <td>1</td>\n",
       "      <td>0</td>\n",
       "      <td>1</td>\n",
       "      <td>0</td>\n",
       "      <td>0</td>\n",
       "      <td>1</td>\n",
       "      <td>0</td>\n",
       "    </tr>\n",
       "    <tr>\n",
       "      <th>2</th>\n",
       "      <td>67</td>\n",
       "      <td>1</td>\n",
       "      <td>0</td>\n",
       "      <td>1</td>\n",
       "      <td>0</td>\n",
       "      <td>1</td>\n",
       "      <td>0</td>\n",
       "      <td>0</td>\n",
       "      <td>1</td>\n",
       "      <td>0</td>\n",
       "    </tr>\n",
       "    <tr>\n",
       "      <th>3</th>\n",
       "      <td>51</td>\n",
       "      <td>1</td>\n",
       "      <td>0</td>\n",
       "      <td>0</td>\n",
       "      <td>0</td>\n",
       "      <td>1</td>\n",
       "      <td>0</td>\n",
       "      <td>0</td>\n",
       "      <td>0</td>\n",
       "      <td>1</td>\n",
       "    </tr>\n",
       "    <tr>\n",
       "      <th>4</th>\n",
       "      <td>81</td>\n",
       "      <td>1</td>\n",
       "      <td>0</td>\n",
       "      <td>0</td>\n",
       "      <td>0</td>\n",
       "      <td>1</td>\n",
       "      <td>0</td>\n",
       "      <td>0</td>\n",
       "      <td>0</td>\n",
       "      <td>1</td>\n",
       "    </tr>\n",
       "  </tbody>\n",
       "</table>\n",
       "</div>"
      ],
      "text/plain": [
       "   age_year  fever  pneumonia  lung_infection  travel_history  cough  \\\n",
       "0        52      1          0               1               0      1   \n",
       "1        48      1          0               1               0      1   \n",
       "2        67      1          0               1               0      1   \n",
       "3        51      1          0               0               0      1   \n",
       "4        81      1          0               0               0      1   \n",
       "\n",
       "   runny_nose  muscle_soreness  gender_0  gender_1  \n",
       "0           0                0         0         1  \n",
       "1           0                0         1         0  \n",
       "2           0                0         1         0  \n",
       "3           0                0         0         1  \n",
       "4           0                0         0         1  "
      ]
     },
     "metadata": {},
     "execution_count": 399
    }
   ],
   "metadata": {}
  },
  {
   "cell_type": "code",
   "execution_count": 400,
   "source": [
    "output = pd.DataFrame({'gender': test_data.gender, 'age': test_data.age_year, 'fever': test_data.fever, 'pneumonia': test_data.pneumonia,\r\n",
    "                    'lung infection': test_data.lung_infection, 'travel history': test_data.travel_history, 'cough': test_data.cough,\r\n",
    "                    'runny nose': test_data.runny_nose, 'muscle soreness': test_data.muscle_soreness, 'Covid positive': predictions})\r\n"
   ],
   "outputs": [],
   "metadata": {}
  },
  {
   "cell_type": "code",
   "execution_count": 401,
   "source": [
    "output.loc[output['gender'] == 0, 'gender'] = 'male'\r\n",
    "output.loc[output['gender'] == 1, 'gender'] = 'female'\r\n",
    "#output.head()\r\n"
   ],
   "outputs": [],
   "metadata": {}
  },
  {
   "cell_type": "code",
   "execution_count": 402,
   "source": [
    "output.to_csv('result.csv', index = False)"
   ],
   "outputs": [],
   "metadata": {}
  },
  {
   "cell_type": "code",
   "execution_count": 403,
   "source": [
    "count_not_positive_test = test_data.loc[test_data['SARS-CoV-2 Positive'] == 0, 'SARS-CoV-2 Positive'].count()\r\n",
    "#print(count_not_positive_test)\r\n",
    "\r\n",
    "count_positive_test = test_data.loc[test_data['SARS-CoV-2 Positive']  == 1, 'SARS-CoV-2 Positive'].count()\r\n",
    "#print(count_positive_test)\r\n",
    "\r\n",
    "count_not_positive_out = output.loc[output['Covid positive'] == 0, 'Covid positive'].count()\r\n",
    "#print(count_not_positive_out)\r\n",
    "\r\n",
    "count_positive_out = output.loc[output['Covid positive'] == 1, 'Covid positive'].count()\r\n",
    "#print(count_positive_out)\r\n"
   ],
   "outputs": [],
   "metadata": {}
  },
  {
   "cell_type": "code",
   "execution_count": 404,
   "source": [
    "import matplotlib.pyplot as plt\r\n",
    "\r\n",
    "labels = ['Not Covid positive', 'Covid positive']\r\n",
    "test_count = [test_data.loc[test_data['SARS-CoV-2 Positive']\r\n",
    "                            == 0, 'SARS-CoV-2 Positive'].count(), test_data.loc[test_data['SARS-CoV-2 Positive'] == 1, 'SARS-CoV-2 Positive'].count()]\r\n",
    "output_count = [output.loc[output['Covid positive']\r\n",
    "                           == 0, 'Covid positive'].count(), output.loc[output['Covid positive'] == 1, 'Covid positive'].count()]\r\n",
    "\r\n",
    "x = np.arange(len(labels))\r\n",
    "width = 0.30\r\n",
    "\r\n",
    "fig, ax = plt.subplots()\r\n",
    "rects1 = ax.bar(x - width/2, test_count, width, label='Test', color = 'violet')\r\n",
    "rects2 = ax.bar(x + width/2, output_count, width, label='Results', color = 'lightblue')\r\n",
    "\r\n",
    "ax.set_ylabel('Cases')\r\n",
    "ax.set_title('Positive and negative cases of Covid-19')\r\n",
    "ax.set_xticks(x)\r\n",
    "ax.set_xticklabels(labels)\r\n",
    "ax.legend()\r\n",
    "\r\n",
    "ax.bar_label(rects1, padding=3)\r\n",
    "ax.bar_label(rects2, padding=3)\r\n",
    "\r\n",
    "fig.tight_layout()\r\n",
    "\r\n",
    "plt.show()\r\n"
   ],
   "outputs": [
    {
     "output_type": "display_data",
     "data": {
      "image/png": "[encoded data removed]",
      "text/plain": [
       "<Figure size 432x288 with 1 Axes>"
      ]
     },
     "metadata": {
      "needs_background": "light"
     }
    }
   ],
   "metadata": {}
  },
  {
   "cell_type": "markdown",
   "source": [],
   "metadata": {}
  }
 ],
 "metadata": {
  "orig_nbformat": 4,
  "language_info": {
   "name": "python",
   "version": "3.9.7",
   "mimetype": "text/x-python",
   "codemirror_mode": {
    "name": "ipython",
    "version": 3
   },
   "pygments_lexer": "ipython3",
   "nbconvert_exporter": "python",
   "file_extension": ".py"
  },
  "kernelspec": {
   "name": "python3",
   "display_name": "Python 3.9.7 64-bit (windows store)"
  },
  "interpreter": {
   "hash": "5f21317df0411cefed7821f04c26b462b6d658defe884317133713f84905ee3e"
  }
 },
 "nbformat": 4,
 "nbformat_minor": 2
}