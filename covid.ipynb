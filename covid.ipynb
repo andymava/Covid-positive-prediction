{
 "cells": [
  {
   "cell_type": "code",
   "execution_count": 19,
   "source": [
    "import pandas as pd\r\n",
    "import numpy as np"
   ],
   "outputs": [],
   "metadata": {}
  },
  {
   "cell_type": "code",
   "execution_count": 20,
   "source": [
    "# Open data to train the model\r\n",
    "train_data = pd.read_csv('covid_early_stage_symptoms.csv')\r\n",
    "#train_data.head()"
   ],
   "outputs": [],
   "metadata": {}
  },
  {
   "cell_type": "code",
   "execution_count": 21,
   "source": [
    "# Open test data\r\n",
    "test_data = pd.read_csv(\"test_data.csv\")\r\n",
    "#test_data.head()\r\n"
   ],
   "outputs": [],
   "metadata": {}
  },
  {
   "cell_type": "code",
   "execution_count": 22,
   "source": [
    "travel = train_data.loc[train_data.travel_history == 1][\"SARS-CoV-2 Positive\"]\r\n",
    "\r\n",
    "rate_travel = sum(travel)/len(travel)\r\n",
    "print(\"% of people who travel that are positive: \", rate_travel)\r\n",
    "\r\n",
    "fever = train_data.loc[train_data.fever == 1][\"SARS-CoV-2 Positive\"]\r\n",
    "\r\n",
    "rate_fever = sum(fever)/len(fever)\r\n",
    "print(\"% of people who have fever that are positive: \", rate_fever)\r\n",
    "\r\n",
    "lung = train_data.loc[train_data.lung_infection ==\r\n",
    "                      1][\"SARS-CoV-2 Positive\"]\r\n",
    "\r\n",
    "rate_lung = sum(lung)/len(lung)\r\n",
    "print(\"% of people who have lung infection that are positive: \", rate_lung)\r\n",
    "\r\n",
    "pneumonia = train_data.loc[train_data.pneumonia ==\r\n",
    "                           1][\"SARS-CoV-2 Positive\"]\r\n",
    "\r\n",
    "rate_pneumonia = sum(pneumonia)/len(pneumonia)\r\n",
    "print(\"% of people who have pneumonia that are positive: \", rate_pneumonia)\r\n",
    "\r\n",
    "pneumonia = train_data.loc[train_data.pneumonia ==\r\n",
    "                           1][\"SARS-CoV-2 Positive\"]\r\n",
    "\r\n",
    "rate_pneumonia = sum(pneumonia)/len(pneumonia)\r\n",
    "print(\"% of people who have pneumonia that are positive: \", rate_pneumonia)\r\n"
   ],
   "outputs": [
    {
     "output_type": "stream",
     "name": "stdout",
     "text": [
      "% of people who travel that are positive:  0.13706563706563707\n",
      "% of people who have fever that are positive:  0.4675547915771379\n",
      "% of people who have lung infection that are positive:  0.9108910891089109\n",
      "% of people who have pneumonia that are positive:  1.0\n",
      "% of people who have pneumonia that are positive:  1.0\n"
     ]
    }
   ],
   "metadata": {}
  },
  {
   "cell_type": "markdown",
   "source": [
    "Lung infection and pneumonia are the two comorbities with the higher relation"
   ],
   "metadata": {}
  },
  {
   "cell_type": "code",
   "execution_count": 23,
   "source": [
    "# Change 'female'and 'male' to 1 and 0\r\n",
    "train_data.loc[train_data['gender'] == 'male', 'gender'] = 0\r\n",
    "train_data.loc[train_data['gender'] == 'female', 'gender'] = 1\r\n",
    "#train_data.head()"
   ],
   "outputs": [],
   "metadata": {}
  },
  {
   "cell_type": "code",
   "execution_count": 24,
   "source": [
    "# Change 'female'and 'male' to 1 and 0\r\n",
    "test_data.loc[test_data['gender'] == 'male', 'gender'] = 0\r\n",
    "test_data.loc[test_data['gender'] == 'female', 'gender'] = 1\r\n",
    "#test_data.head()\r\n"
   ],
   "outputs": [],
   "metadata": {}
  },
  {
   "cell_type": "code",
   "execution_count": 25,
   "source": [
    "from sklearn.ensemble import RandomForestClassifier\r\n",
    "# Create target object\r\n",
    "y = train_data['SARS-CoV-2 Positive']\r\n",
    "# Create X \r\n",
    "features = ['gender', 'age_year', 'fever', 'pneumonia', 'lung_infection', 'travel_history', 'cough', 'runny_nose', 'muscle_soreness']\r\n",
    "X = pd.get_dummies(train_data[features])\r\n",
    "X_test = pd.get_dummies(test_data[features])\r\n"
   ],
   "outputs": [],
   "metadata": {}
  },
  {
   "cell_type": "code",
   "execution_count": 26,
   "source": [
    "# n_estimators is the number of trees, the default is 100\r\n",
    "# max_depth refers to the maximun depth of the tree\r\n",
    "# random_state controls the randomness of the bootstrapping of the sampleswhen building the trees\r\n",
    "model = RandomForestClassifier(n_estimators=500, max_depth=10, random_state=1)\r\n",
    "model.fit(X, y)\r\n",
    "predictions = model.predict(X_test)\r\n"
   ],
   "outputs": [],
   "metadata": {}
  },
  {
   "cell_type": "code",
   "execution_count": 28,
   "source": [
    "output = pd.DataFrame({'gender': test_data.gender, 'age': test_data.age_year, 'fever': test_data.fever, 'pneumonia': test_data.pneumonia,\r\n",
    "                    'lung infection': test_data.lung_infection, 'travel history': test_data.travel_history, 'cough': test_data.cough,\r\n",
    "                    'runny nose': test_data.runny_nose, 'muscle soreness': test_data.muscle_soreness, 'Covid positive': predictions})\r\n"
   ],
   "outputs": [],
   "metadata": {}
  },
  {
   "cell_type": "code",
   "execution_count": 29,
   "source": [
    "output.loc[output['gender'] == 0, 'gender'] = 'male'\r\n",
    "output.loc[output['gender'] == 1, 'gender'] = 'female'\r\n",
    "#output.head()\r\n"
   ],
   "outputs": [],
   "metadata": {}
  },
  {
   "cell_type": "code",
   "execution_count": 30,
   "source": [
    "output.to_csv('result.csv', index = False)"
   ],
   "outputs": [],
   "metadata": {}
  },
  {
   "cell_type": "code",
   "execution_count": 33,
   "source": [
    "import matplotlib.pyplot as plt\r\n",
    "\r\n",
    "labels = ['Not Covid positive', 'Covid positive']\r\n",
    "test_count = [test_data.loc[test_data['SARS-CoV-2 Positive']\r\n",
    "                            == 0, 'SARS-CoV-2 Positive'].count(), test_data.loc[test_data['SARS-CoV-2 Positive'] == 1, 'SARS-CoV-2 Positive'].count()]\r\n",
    "output_count = [output.loc[output['Covid positive']\r\n",
    "                           == 0, 'Covid positive'].count(), output.loc[output['Covid positive'] == 1, 'Covid positive'].count()]\r\n",
    "\r\n",
    "x = np.arange(len(labels))\r\n",
    "width = 0.30\r\n",
    "\r\n",
    "fig, ax = plt.subplots()\r\n",
    "rects1 = ax.bar(x - width/2, test_count, width, label='Test', color = 'Green')\r\n",
    "rects2 = ax.bar(x + width/2, output_count, width, label='Results', color = 'lightgreen')\r\n",
    "\r\n",
    "ax.set_ylabel('Cases')\r\n",
    "ax.set_title('Positive and negative cases of Covid-19')\r\n",
    "ax.set_xticks(x)\r\n",
    "ax.set_xticklabels(labels)\r\n",
    "ax.legend()\r\n",
    "\r\n",
    "ax.bar_label(rects1, padding=3)\r\n",
    "ax.bar_label(rects2, padding=3)\r\n",
    "\r\n",
    "fig.tight_layout()\r\n",
    "\r\n",
    "plt.show()\r\n"
   ],
   "outputs": [
    {
     "output_type": "display_data",
     "data": {
      "image/png": "[encoded data removed]",
      "text/plain": [
       "<Figure size 432x288 with 1 Axes>"
      ]
     },
     "metadata": {
      "needs_background": "light"
     }
    }
   ],
   "metadata": {}
  },
  {
   "cell_type": "markdown",
   "source": [],
   "metadata": {}
  }
 ],
 "metadata": {
  "orig_nbformat": 4,
  "language_info": {
   "name": "python",
   "version": "3.9.7",
   "mimetype": "text/x-python",
   "codemirror_mode": {
    "name": "ipython",
    "version": 3
   },
   "pygments_lexer": "ipython3",
   "nbconvert_exporter": "python",
   "file_extension": ".py"
  },
  "kernelspec": {
   "name": "python3",
   "display_name": "Python 3.9.7 64-bit (windows store)"
  },
  "interpreter": {
   "hash": "5f21317df0411cefed7821f04c26b462b6d658defe884317133713f84905ee3e"
  }
 },
 "nbformat": 4,
 "nbformat_minor": 2
}